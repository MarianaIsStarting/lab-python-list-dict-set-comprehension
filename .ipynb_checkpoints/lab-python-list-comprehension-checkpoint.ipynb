{
 "cells": [
  {
   "cell_type": "markdown",
   "id": "25d7736c-ba17-4aff-b6bb-66eba20fbf4e",
   "metadata": {},
   "source": [
    "# Lab | List, Dict and Set Comprehension"
   ]
  },
  {
   "cell_type": "markdown",
   "id": "74650549-369b-49c5-87a9-d95372779492",
   "metadata": {},
   "source": [
    "In the previous exercise, you developed a program to manage customer orders and inventory. Now, let's take it a step further and incorporate comprehension into your code.\n",
    "\n",
    "Follow the steps below to complete the exercise:\n",
    "\n",
    "1. Review your code from the previous exercise and identify areas where you can apply comprehension to simplify and streamline your code. \n",
    "\n",
    "    - *Hint: Apply it to initialize inventory, updating the inventory and printing the updated inventory.*\n",
    "    \n",
    "    - For example, in initializing the inventory, we could have:\n",
    "    \n",
    "        ```python\n",
    "        def initialize_inventory(products):\n",
    "            inventory = {product: int(input(f\"Enter the quantity of {product}s available: \")) for product in products}\n",
    "            return inventory\n",
    "\n",
    "        ```\n",
    "<br>\n",
    "    \n",
    "    \n",
    "2. Modify the function get_customer_orders so it prompts the user to enter the number of customer orders and gathers the product names using a loop and user input. Use comprehension.\n",
    "\n",
    "3.Add a new function to calculate the total price of the customer order. For each product in the customer_orders list, prompt the user to enter the price of that product. Use comprehension to calculate the total price. Note: assume that the user can only have 1 unit of each product.\n",
    "\n",
    "4. Modify the update_inventory function to remove the product from the inventory if its quantity becomes zero after fulfilling the customer orders. Use comprehension to filter out the products with a quantity of zero from the inventory.\n",
    "\n",
    "5. Print the total price of the customer order.\n",
    "\n",
    "Your code should produce output similar to the following:\n",
    "\n",
    "```python\n",
    "Enter the quantity of t-shirts available:  5\n",
    "Enter the quantity of mugs available:  4\n",
    "Enter the quantity of hats available:  3\n",
    "Enter the quantity of books available:  2\n",
    "Enter the quantity of keychains available:  1\n",
    "Enter the number of customer orders:  2\n",
    "Enter the name of a product that a customer wants to order:  hat\n",
    "Enter the name of a product that a customer wants to order:  keychain\n",
    "\n",
    "Order Statistics:\n",
    "Total Products Ordered: 2\n",
    "Unique Products Ordered: 2\n",
    "Percentage of Unique Products Ordered: 40.0\n",
    "\n",
    "Updated Inventory:\n",
    "t-shirt: 5\n",
    "mug: 4\n",
    "hat: 2\n",
    "book: 2\n",
    "Enter the price of keychain:  5\n",
    "Enter the price of hat:  10\n",
    "Total Price: 15.0\n",
    "\n",
    "```\n"
   ]
  },
  {
   "cell_type": "code",
   "execution_count": 16,
   "id": "334fb80e",
   "metadata": {
    "scrolled": false
   },
   "outputs": [
    {
     "name": "stdout",
     "output_type": "stream",
     "text": [
      "how many tshirts are there?4\n",
      "how many mugs are there?5\n",
      "how many hats are there?2\n",
      "how many books are there?5\n",
      "how many keychains are there?6\n",
      "{'tshirts': 4, 'mugs': 5, 'hats': 2, 'books': 5, 'keychains': 6}\n"
     ]
    }
   ],
   "source": [
    "### 1\n",
    "\n",
    "def initialize_inventory(products):\n",
    "    inventory = {product: int(input(f\"Enter the quantity of {product}s available: \")) for product in products}\n",
    "    return inventory\n",
    "\n",
    "\n",
    "products = ['tshirt', 'mug', 'hat', 'book', 'keychain']\n",
    "inventory = {}\n",
    "\n",
    "def initialize_inventory(products):\n",
    "    for product in range(len(products)):\n",
    "        tshirts = int(input(\"how many tshirts are there?\"))\n",
    "        inventory['tshirts'] = tshirts\n",
    "        mugs = int(input(\"how many mugs are there?\"))\n",
    "        inventory['mugs'] = mugs\n",
    "        hats = int(input(\"how many hats are there?\"))\n",
    "        inventory['hats'] = hats\n",
    "        books = int(input(\"how many books are there?\"))\n",
    "        inventory['books'] = books\n",
    "        keychains = int(input(\"how many keychains are there?\"))\n",
    "        inventory['keychains'] = keychains\n",
    "        break\n",
    "    print(inventory)\n",
    "    return\n",
    "\n",
    "\n",
    "initialize_inventory(products)\n"
   ]
  },
  {
   "cell_type": "code",
   "execution_count": 17,
   "id": "3ad4316c",
   "metadata": {},
   "outputs": [
    {
     "name": "stdout",
     "output_type": "stream",
     "text": [
      "Enter the quantity of tshirts available: 4\n",
      "Enter the quantity of mugs available: 5\n",
      "Enter the quantity of hats available: 56\n",
      "Enter the quantity of books available: 7\n",
      "Enter the quantity of keychains available: 2\n"
     ]
    },
    {
     "data": {
      "text/plain": [
       "{'tshirt': 4, 'mug': 5, 'hat': 56, 'book': 7, 'keychain': 2}"
      ]
     },
     "execution_count": 17,
     "metadata": {},
     "output_type": "execute_result"
    }
   ],
   "source": [
    "\n",
    "products = ['tshirt', 'mug', 'hat', 'book', 'keychain']\n",
    "\n",
    "def initialize_inventory(products):\n",
    "    inventory = {product: int(input(f\"Enter the quantity of {product}s available: \")) for product in products}\n",
    "    return inventory\n",
    "\n",
    "initialize_inventory(products)"
   ]
  },
  {
   "cell_type": "code",
   "execution_count": 18,
   "id": "3f66835a",
   "metadata": {},
   "outputs": [
    {
     "name": "stdout",
     "output_type": "stream",
     "text": [
      "How many products you would like to order?6\n",
      "what is the product you would like to order? hdd\n",
      "what is the product you would like to order? ds\n",
      "what is the product you would like to order? eert\n",
      "what is the product you would like to order? hat\n",
      "what is the product you would like to order? book\n",
      "what is the product you would like to order? sdcd\n"
     ]
    },
    {
     "data": {
      "text/plain": [
       "['hdd', 'ds', 'eert', 'hat', 'book', 'sdcd']"
      ]
     },
     "execution_count": 18,
     "metadata": {},
     "output_type": "execute_result"
    }
   ],
   "source": [
    "### 2\n",
    "\n",
    "customer_orders = set()\n",
    "\n",
    "def get_costumer_orders():\n",
    "    order = int(input(\"How many products you would like to order?\"))\n",
    "    return [input(\"what is the product you would like to order? \") for i in range(order)]\n",
    "    \n",
    "customer_orders = get_costumer_orders()\n",
    "\n",
    "customer_orders \n",
    "    \n"
   ]
  },
  {
   "cell_type": "code",
   "execution_count": 19,
   "id": "3e1fd8c2",
   "metadata": {
    "scrolled": true
   },
   "outputs": [
    {
     "name": "stdout",
     "output_type": "stream",
     "text": [
      "how much does the hdd cost?32\n",
      "how much does the ds cost?4355\n",
      "how much does the eert cost?7756\n",
      "how much does the hat cost?343434\n",
      "how much does the book cost?3223\n",
      "how much does the sdcd cost?2332\n",
      "Total Price: 361132\n"
     ]
    }
   ],
   "source": [
    "### 3 and #5\n",
    "\n",
    "def total_price():\n",
    "    price = [int(input(\"how much does the \" + product + \" cost?\")) for product in customer_orders]\n",
    "    total_price = sum(price)\n",
    "    return print(\"Total Price:\", total_price, \"euros\")\n",
    "\n",
    "total_price()\n",
    "    \n",
    "    "
   ]
  },
  {
   "cell_type": "code",
   "execution_count": 20,
   "id": "fc95130d",
   "metadata": {},
   "outputs": [
    {
     "name": "stdout",
     "output_type": "stream",
     "text": [
      "{'tshirts': 4, 'mugs': 5, 'hats': 2, 'books': 5, 'keychains': 6}\n"
     ]
    }
   ],
   "source": [
    "## 4\n",
    "\n",
    "\n",
    "def update_inventory(customer_orders, inventory):\n",
    "    substraction_value = 1\n",
    "    for key in inventory:\n",
    "        if key in customer_orders:  \n",
    "            inventory[key] -= substraction_value\n",
    "            if inventory[key] <= 0:\n",
    "                inventory.pop(key)\n",
    "    print(inventory)\n",
    "    return\n",
    "\n",
    "update_inventory(customer_orders, inventory)"
   ]
  },
  {
   "cell_type": "code",
   "execution_count": null,
   "id": "7c07b951",
   "metadata": {},
   "outputs": [],
   "source": [
    "# 5 its with answer 3"
   ]
  },
  {
   "cell_type": "code",
   "execution_count": null,
   "id": "71a8f510",
   "metadata": {},
   "outputs": [],
   "source": []
  },
  {
   "cell_type": "code",
   "execution_count": null,
   "id": "1a85b7f5",
   "metadata": {},
   "outputs": [],
   "source": []
  },
  {
   "cell_type": "code",
   "execution_count": null,
   "id": "de388563",
   "metadata": {},
   "outputs": [],
   "source": []
  },
  {
   "cell_type": "code",
   "execution_count": null,
   "id": "2239ec0d",
   "metadata": {},
   "outputs": [],
   "source": []
  },
  {
   "cell_type": "code",
   "execution_count": 2,
   "id": "062a57a2",
   "metadata": {},
   "outputs": [
    {
     "name": "stdout",
     "output_type": "stream",
     "text": [
      "<function get_customer_order at 0x10603f880>\n"
     ]
    }
   ],
   "source": [
    "#2\n",
    "\n",
    "##### weird error.\n",
    "\n",
    "products = ['tshirt', 'mug', 'hat', 'book', 'keychain']\n",
    "\n",
    "\n",
    "def get_customer_order(products):\n",
    "    customer_orders = {product: int(input(\"How many\", {product},\"would you like to order?\")) for product in products}\n",
    "    return\n",
    "\n",
    "print(get_customer_order)"
   ]
  },
  {
   "cell_type": "code",
   "execution_count": null,
   "id": "92ee2b48",
   "metadata": {},
   "outputs": [],
   "source": []
  },
  {
   "cell_type": "code",
   "execution_count": null,
   "id": "35d3fad7",
   "metadata": {},
   "outputs": [],
   "source": []
  },
  {
   "cell_type": "code",
   "execution_count": null,
   "id": "872b8be4",
   "metadata": {},
   "outputs": [],
   "source": []
  },
  {
   "cell_type": "code",
   "execution_count": null,
   "id": "acb121c9",
   "metadata": {},
   "outputs": [],
   "source": []
  },
  {
   "cell_type": "code",
   "execution_count": null,
   "id": "3d845ee8",
   "metadata": {},
   "outputs": [],
   "source": []
  },
  {
   "cell_type": "code",
   "execution_count": null,
   "id": "a014c5a8",
   "metadata": {},
   "outputs": [],
   "source": []
  },
  {
   "cell_type": "code",
   "execution_count": null,
   "id": "b2dede72",
   "metadata": {},
   "outputs": [],
   "source": []
  },
  {
   "cell_type": "code",
   "execution_count": null,
   "id": "0a3c7e15",
   "metadata": {},
   "outputs": [],
   "source": []
  },
  {
   "cell_type": "code",
   "execution_count": null,
   "id": "220b5954",
   "metadata": {},
   "outputs": [],
   "source": []
  },
  {
   "cell_type": "code",
   "execution_count": null,
   "id": "90f162fa",
   "metadata": {},
   "outputs": [],
   "source": []
  }
 ],
 "metadata": {
  "kernelspec": {
   "display_name": "Python 3 (ipykernel)",
   "language": "python",
   "name": "python3"
  },
  "language_info": {
   "codemirror_mode": {
    "name": "ipython",
    "version": 3
   },
   "file_extension": ".py",
   "mimetype": "text/x-python",
   "name": "python",
   "nbconvert_exporter": "python",
   "pygments_lexer": "ipython3",
   "version": "3.10.9"
  }
 },
 "nbformat": 4,
 "nbformat_minor": 5
}
